{
 "cells": [
  {
   "cell_type": "code",
   "execution_count": 13,
   "id": "8b6e5953",
   "metadata": {},
   "outputs": [],
   "source": [
    "import os"
   ]
  },
  {
   "cell_type": "code",
   "execution_count": 14,
   "id": "f4b0ff71",
   "metadata": {},
   "outputs": [
    {
     "data": {
      "text/plain": [
       "'c:\\\\Users\\\\Harshitha\\\\Kidney-Disease-Classification-Deep-Learning-Project'"
      ]
     },
     "execution_count": 14,
     "metadata": {},
     "output_type": "execute_result"
    }
   ],
   "source": [
    "%pwd"
   ]
  },
  {
   "cell_type": "code",
   "execution_count": 15,
   "id": "2ad1bee3",
   "metadata": {},
   "outputs": [],
   "source": [
    "os.chdir(\"../\")"
   ]
  },
  {
   "cell_type": "code",
   "execution_count": 16,
   "id": "59f2e4f1",
   "metadata": {},
   "outputs": [
    {
     "data": {
      "text/plain": [
       "'c:\\\\Users\\\\Harshitha'"
      ]
     },
     "execution_count": 16,
     "metadata": {},
     "output_type": "execute_result"
    }
   ],
   "source": [
    "%pwd"
   ]
  },
  {
   "cell_type": "code",
   "execution_count": 18,
   "id": "97c30b2d",
   "metadata": {},
   "outputs": [],
   "source": [
    "from dataclasses import dataclass\n",
    "from pathlib import Path\n",
    "\n",
    "@dataclass(frozen=True)\n",
    "class DataIngestionConfig:\n",
    "    root_dir:Path\n",
    "    source_URL:str\n",
    "    local_data_file:Path\n",
    "    unzip_dir:Path"
   ]
  },
  {
   "cell_type": "code",
   "execution_count": 29,
   "id": "39b27d09",
   "metadata": {},
   "outputs": [
    {
     "ename": "ModuleNotFoundError",
     "evalue": "No module named 'cnnClassifier'",
     "output_type": "error",
     "traceback": [
      "\u001b[1;31m---------------------------------------------------------------------------\u001b[0m",
      "\u001b[1;31mModuleNotFoundError\u001b[0m                       Traceback (most recent call last)",
      "Cell \u001b[1;32mIn[29], line 1\u001b[0m\n\u001b[1;32m----> 1\u001b[0m \u001b[38;5;28;01mfrom\u001b[39;00m \u001b[38;5;21;01mcnnClassifier\u001b[39;00m\u001b[38;5;21;01m.\u001b[39;00m\u001b[38;5;21;01mconstants\u001b[39;00m \u001b[38;5;28;01mimport\u001b[39;00m \u001b[38;5;241m*\u001b[39m\n\u001b[0;32m      2\u001b[0m \u001b[38;5;28;01mfrom\u001b[39;00m \u001b[38;5;21;01mcnnClassifier\u001b[39;00m\u001b[38;5;21;01m.\u001b[39;00m\u001b[38;5;21;01mutils\u001b[39;00m\u001b[38;5;21;01m.\u001b[39;00m\u001b[38;5;21;01mcommon\u001b[39;00m \u001b[38;5;28;01mimport\u001b[39;00m read_yaml, create_directories\n",
      "\u001b[1;31mModuleNotFoundError\u001b[0m: No module named 'cnnClassifier'"
     ]
    }
   ],
   "source": [
    "from cnnClassifier.constants import *\n",
    "from cnnClassifier.utils.common import read_yaml, create_directories"
   ]
  },
  {
   "cell_type": "code",
   "execution_count": 21,
   "id": "3de4b30f",
   "metadata": {},
   "outputs": [],
   "source": [
    "import sys\n",
    "import os\n",
    "\n",
    "# Add project root to sys.path from interactive environment\n",
    "sys.path.append(os.path.abspath(os.path.join(os.getcwd(), '..')))\n"
   ]
  },
  {
   "cell_type": "code",
   "execution_count": 25,
   "id": "eb4d63be",
   "metadata": {},
   "outputs": [
    {
     "name": "stdout",
     "output_type": "stream",
     "text": [
      "c:\\Users\\Harshitha\n"
     ]
    }
   ],
   "source": [
    "import os\n",
    "print(os.getcwd())"
   ]
  },
  {
   "cell_type": "code",
   "execution_count": 28,
   "id": "ef3a2d87",
   "metadata": {},
   "outputs": [
    {
     "name": "stdout",
     "output_type": "stream",
     "text": [
      "c:\\Users\\Harshitha\\Kidney-Disease-Classification-Deep-Learning-Project\n"
     ]
    }
   ],
   "source": [
    "import os\n",
    "os.chdir('Kidney-Disease-Classification-Deep-Learning-Project')\n",
    "print(os.getcwd())  # Verify you are now in the correct directory\n"
   ]
  },
  {
   "cell_type": "code",
   "execution_count": 32,
   "id": "0c487549",
   "metadata": {},
   "outputs": [
    {
     "ename": "ModuleNotFoundError",
     "evalue": "No module named 'cnnClassifier'",
     "output_type": "error",
     "traceback": [
      "\u001b[1;31m---------------------------------------------------------------------------\u001b[0m",
      "\u001b[1;31mModuleNotFoundError\u001b[0m                       Traceback (most recent call last)",
      "Cell \u001b[1;32mIn[32], line 6\u001b[0m\n\u001b[0;32m      2\u001b[0m \u001b[38;5;28;01mimport\u001b[39;00m \u001b[38;5;21;01mos\u001b[39;00m\n\u001b[0;32m      4\u001b[0m sys\u001b[38;5;241m.\u001b[39mpath\u001b[38;5;241m.\u001b[39mappend(\u001b[38;5;124m'\u001b[39m\u001b[38;5;124mC:/Users/Harshitha/Kidney-Disease-Classification-Deep-Learning-Project\u001b[39m\u001b[38;5;124m'\u001b[39m)\n\u001b[1;32m----> 6\u001b[0m \u001b[38;5;28;01mfrom\u001b[39;00m \u001b[38;5;21;01mcnnClassifier\u001b[39;00m\u001b[38;5;21;01m.\u001b[39;00m\u001b[38;5;21;01mconstants\u001b[39;00m \u001b[38;5;28;01mimport\u001b[39;00m \u001b[38;5;241m*\u001b[39m\n\u001b[0;32m      7\u001b[0m \u001b[38;5;28;01mfrom\u001b[39;00m \u001b[38;5;21;01mcnnClassifier\u001b[39;00m\u001b[38;5;21;01m.\u001b[39;00m\u001b[38;5;21;01mutils\u001b[39;00m\u001b[38;5;21;01m.\u001b[39;00m\u001b[38;5;21;01mcommon\u001b[39;00m \u001b[38;5;28;01mimport\u001b[39;00m read_yaml, create_directories\n",
      "\u001b[1;31mModuleNotFoundError\u001b[0m: No module named 'cnnClassifier'"
     ]
    }
   ],
   "source": [
    "import sys\n",
    "import os\n",
    "\n",
    "sys.path.append('C:/Users/Harshitha/Kidney-Disease-Classification-Deep-Learning-Project')\n",
    "\n",
    "from cnnClassifier.constants import *\n",
    "from cnnClassifier.utils.common import read_yaml, create_directories\n"
   ]
  },
  {
   "cell_type": "code",
   "execution_count": 33,
   "id": "df3a366a",
   "metadata": {},
   "outputs": [
    {
     "name": "stdout",
     "output_type": "stream",
     "text": [
      "['.git', '.github', 'config', 'logs', 'research', 'src', 'templates']\n",
      "Root: ., Subdirectories: ['.git', '.github', 'config', 'logs', 'research', 'src', 'templates']\n",
      "Root: .\\.git, Subdirectories: ['hooks', 'info', 'logs', 'objects', 'refs']\n",
      "Root: .\\.git\\hooks, Subdirectories: []\n",
      "Root: .\\.git\\info, Subdirectories: []\n",
      "Root: .\\.git\\logs, Subdirectories: ['refs']\n",
      "Root: .\\.git\\logs\\refs, Subdirectories: ['heads', 'remotes']\n",
      "Root: .\\.git\\logs\\refs\\heads, Subdirectories: []\n",
      "Root: .\\.git\\logs\\refs\\remotes, Subdirectories: ['origin']\n",
      "Root: .\\.git\\logs\\refs\\remotes\\origin, Subdirectories: []\n",
      "Root: .\\.git\\objects, Subdirectories: ['09', '0a', '10', '29', '2a', '42', '52', '59', '66', '6e', '7b', '80', '83', '86', '87', '9a', '9d', 'af', 'c3', 'cc', 'd5', 'd6', 'd9', 'e6', 'e8', 'ed', 'f5', 'f6', 'fe', 'info', 'pack']\n",
      "Root: .\\.git\\objects\\09, Subdirectories: []\n",
      "Root: .\\.git\\objects\\0a, Subdirectories: []\n",
      "Root: .\\.git\\objects\\10, Subdirectories: []\n",
      "Root: .\\.git\\objects\\29, Subdirectories: []\n",
      "Root: .\\.git\\objects\\2a, Subdirectories: []\n",
      "Root: .\\.git\\objects\\42, Subdirectories: []\n",
      "Root: .\\.git\\objects\\52, Subdirectories: []\n",
      "Root: .\\.git\\objects\\59, Subdirectories: []\n",
      "Root: .\\.git\\objects\\66, Subdirectories: []\n",
      "Root: .\\.git\\objects\\6e, Subdirectories: []\n",
      "Root: .\\.git\\objects\\7b, Subdirectories: []\n",
      "Root: .\\.git\\objects\\80, Subdirectories: []\n",
      "Root: .\\.git\\objects\\83, Subdirectories: []\n",
      "Root: .\\.git\\objects\\86, Subdirectories: []\n",
      "Root: .\\.git\\objects\\87, Subdirectories: []\n",
      "Root: .\\.git\\objects\\9a, Subdirectories: []\n",
      "Root: .\\.git\\objects\\9d, Subdirectories: []\n",
      "Root: .\\.git\\objects\\af, Subdirectories: []\n",
      "Root: .\\.git\\objects\\c3, Subdirectories: []\n",
      "Root: .\\.git\\objects\\cc, Subdirectories: []\n",
      "Root: .\\.git\\objects\\d5, Subdirectories: []\n",
      "Root: .\\.git\\objects\\d6, Subdirectories: []\n",
      "Root: .\\.git\\objects\\d9, Subdirectories: []\n",
      "Root: .\\.git\\objects\\e6, Subdirectories: []\n",
      "Root: .\\.git\\objects\\e8, Subdirectories: []\n",
      "Root: .\\.git\\objects\\ed, Subdirectories: []\n",
      "Root: .\\.git\\objects\\f5, Subdirectories: []\n",
      "Root: .\\.git\\objects\\f6, Subdirectories: []\n",
      "Root: .\\.git\\objects\\fe, Subdirectories: []\n",
      "Root: .\\.git\\objects\\info, Subdirectories: []\n",
      "Root: .\\.git\\objects\\pack, Subdirectories: []\n",
      "Root: .\\.git\\refs, Subdirectories: ['heads', 'remotes', 'tags']\n",
      "Root: .\\.git\\refs\\heads, Subdirectories: []\n",
      "Root: .\\.git\\refs\\remotes, Subdirectories: ['origin']\n",
      "Root: .\\.git\\refs\\remotes\\origin, Subdirectories: []\n",
      "Root: .\\.git\\refs\\tags, Subdirectories: []\n",
      "Root: .\\.github, Subdirectories: ['workflows']\n",
      "Root: .\\.github\\workflows, Subdirectories: []\n",
      "Root: .\\config, Subdirectories: []\n",
      "Root: .\\logs, Subdirectories: []\n",
      "Root: .\\research, Subdirectories: []\n",
      "Root: .\\src, Subdirectories: ['cnnClassifier']\n",
      "Root: .\\src\\cnnClassifier, Subdirectories: ['components', 'config', 'constants', 'entity', 'pipeline', 'utils', '__pycache__']\n",
      "Root: .\\src\\cnnClassifier\\components, Subdirectories: []\n",
      "Root: .\\src\\cnnClassifier\\config, Subdirectories: []\n",
      "Root: .\\src\\cnnClassifier\\constants, Subdirectories: ['__pycache__']\n",
      "Root: .\\src\\cnnClassifier\\constants\\__pycache__, Subdirectories: []\n",
      "Root: .\\src\\cnnClassifier\\entity, Subdirectories: []\n",
      "Root: .\\src\\cnnClassifier\\pipeline, Subdirectories: []\n",
      "Root: .\\src\\cnnClassifier\\utils, Subdirectories: ['__pycache__']\n",
      "Root: .\\src\\cnnClassifier\\utils\\__pycache__, Subdirectories: []\n",
      "Root: .\\src\\cnnClassifier\\__pycache__, Subdirectories: []\n",
      "Root: .\\templates, Subdirectories: []\n"
     ]
    }
   ],
   "source": [
    "import os\n",
    "\n",
    "# List all directories in the current working directory\n",
    "directories = [d for d in os.listdir('.') if os.path.isdir(d)]\n",
    "print(directories)\n",
    "\n",
    "# If you want to list directories recursively, you can use this:\n",
    "for root, dirs, files in os.walk('.'):\n",
    "    print(f\"Root: {root}, Subdirectories: {dirs}\")\n"
   ]
  },
  {
   "cell_type": "code",
   "execution_count": 34,
   "id": "0e57b4e6",
   "metadata": {},
   "outputs": [],
   "source": [
    "import sys\n",
    "import os\n",
    "\n",
    "# Add the src directory to sys.path\n",
    "sys.path.append('C:/Users/Harshitha/Kidney-Disease-Classification-Deep-Learning-Project/src')\n",
    "\n",
    "# Try importing again\n",
    "from cnnClassifier.constants import *\n",
    "from cnnClassifier.utils.common import read_yaml, create_directories\n"
   ]
  },
  {
   "cell_type": "code",
   "execution_count": 35,
   "id": "a02a8c12",
   "metadata": {},
   "outputs": [],
   "source": [
    "class ConfigurationManager:\n",
    "    def __init__(\n",
    "        self,\n",
    "        config_filepath = CONFIG_FILE_PATH,\n",
    "        params_filepath = PARAMS_FILE_PATH):\n",
    "\n",
    "        self.config = read_yaml(config_filepath)\n",
    "        self.params = read_yaml(params_filepath)\n",
    "\n",
    "        create_directories([self.config.artifacts_root])\n",
    "\n",
    "\n",
    "    \n",
    "    def get_data_ingestion_config(self) -> DataIngestionConfig:\n",
    "        config = self.config.data_ingestion\n",
    "\n",
    "        create_directories([config.root_dir])\n",
    "\n",
    "        data_ingestion_config = DataIngestionConfig(\n",
    "            root_dir=config.root_dir,\n",
    "            source_URL=config.source_URL,\n",
    "            local_data_file=config.local_data_file,\n",
    "            unzip_dir=config.unzip_dir \n",
    "        )\n",
    "\n",
    "        return data_ingestion_config"
   ]
  },
  {
   "cell_type": "code",
   "execution_count": 36,
   "id": "38ef4aee",
   "metadata": {},
   "outputs": [],
   "source": [
    "import os\n",
    "import zipfile\n",
    "import gdown\n",
    "from cnnClassifier import logger\n",
    "from cnnClassifier.utils.common import get_size"
   ]
  },
  {
   "cell_type": "code",
   "execution_count": 38,
   "id": "ab603422",
   "metadata": {},
   "outputs": [],
   "source": [
    "\n",
    "class DataIngestion:\n",
    "    def __init__(self, config: DataIngestionConfig):\n",
    "        self.config = config\n",
    "\n",
    "    def download_file(self)-> str:\n",
    "        '''\n",
    "        Fetch data from the url\n",
    "        '''\n",
    "\n",
    "        try: \n",
    "            dataset_url = self.config.source_URL\n",
    "            zip_download_dir = self.config.local_data_file\n",
    "            os.makedirs(\"artifacts/data_ingestion\", exist_ok=True)\n",
    "            logger.info(f\"Downloading data from {dataset_url} into file {zip_download_dir}\")\n",
    "\n",
    "            file_id = dataset_url.split(\"/\")[-2]\n",
    "            prefix = 'https://drive.google.com/uc?/export=download&id='\n",
    "            gdown.download(prefix+file_id,zip_download_dir)\n",
    "\n",
    "            logger.info(f\"Downloaded data from {dataset_url} into file {zip_download_dir}\")\n",
    "\n",
    "        except Exception as e:\n",
    "            raise e\n",
    "        \n",
    "    \n",
    "\n",
    "    def extract_zip_file(self):\n",
    "        \"\"\"\n",
    "        zip_file_path: str\n",
    "        Extracts the zip file into the data directory\n",
    "        Function returns None\n",
    "        \"\"\"\n",
    "        unzip_path = self.config.unzip_dir\n",
    "        os.makedirs(unzip_path, exist_ok=True)\n",
    "        with zipfile.ZipFile(self.config.local_data_file, 'r') as zip_ref:\n",
    "            zip_ref.extractall(unzip_path)"
   ]
  },
  {
   "cell_type": "code",
   "execution_count": 41,
   "id": "d18504d0",
   "metadata": {},
   "outputs": [
    {
     "name": "stdout",
     "output_type": "stream",
     "text": [
      "[2025-04-29 22:43:17,391: INFO: common: yaml file: config\\config.yaml loaded successfully]\n",
      "[2025-04-29 22:43:17,405: INFO: common: yaml file: params.yaml loaded successfully]\n",
      "[2025-04-29 22:43:17,408: INFO: common: created directory at: artifacts]\n",
      "[2025-04-29 22:43:17,409: INFO: common: created directory at: artifacts/data_ingestion]\n",
      "[2025-04-29 22:43:17,410: INFO: 39627879: Downloading data from https://drive.google.com/file/d/1vlhZ5c7abUKF8xXERIw6m9Te8fW7ohw3/view?usp=sharing into file artifacts/data_ingestion/data.zip]\n"
     ]
    },
    {
     "name": "stderr",
     "output_type": "stream",
     "text": [
      "Downloading...\n",
      "From (original): https://drive.google.com/uc?/export=download&id=1vlhZ5c7abUKF8xXERIw6m9Te8fW7ohw3\n",
      "From (redirected): https://drive.google.com/uc?%2Fexport=download&id=1vlhZ5c7abUKF8xXERIw6m9Te8fW7ohw3&confirm=t&uuid=bdd9d3de-c81e-45b3-8953-b0622132f88e\n",
      "To: c:\\Users\\Harshitha\\Kidney-Disease-Classification-Deep-Learning-Project\\artifacts\\data_ingestion\\data.zip\n",
      "100%|██████████| 57.7M/57.7M [00:16<00:00, 3.57MB/s]"
     ]
    },
    {
     "name": "stdout",
     "output_type": "stream",
     "text": [
      "[2025-04-29 22:43:39,575: INFO: 39627879: Downloaded data from https://drive.google.com/file/d/1vlhZ5c7abUKF8xXERIw6m9Te8fW7ohw3/view?usp=sharing into file artifacts/data_ingestion/data.zip]\n"
     ]
    },
    {
     "name": "stderr",
     "output_type": "stream",
     "text": [
      "\n"
     ]
    }
   ],
   "source": [
    "\n",
    "try:\n",
    "    config = ConfigurationManager()\n",
    "    data_ingestion_config = config.get_data_ingestion_config()\n",
    "    data_ingestion = DataIngestion(config=data_ingestion_config)\n",
    "    data_ingestion.download_file()\n",
    "    data_ingestion.extract_zip_file()\n",
    "except Exception as e:\n",
    "    raise e"
   ]
  },
  {
   "cell_type": "code",
   "execution_count": null,
   "id": "809663d7",
   "metadata": {},
   "outputs": [],
   "source": []
  },
  {
   "cell_type": "code",
   "execution_count": null,
   "id": "e8aeb477",
   "metadata": {},
   "outputs": [],
   "source": []
  }
 ],
 "metadata": {
  "kernelspec": {
   "display_name": "base",
   "language": "python",
   "name": "python3"
  },
  "language_info": {
   "codemirror_mode": {
    "name": "ipython",
    "version": 3
   },
   "file_extension": ".py",
   "mimetype": "text/x-python",
   "name": "python",
   "nbconvert_exporter": "python",
   "pygments_lexer": "ipython3",
   "version": "3.12.7"
  }
 },
 "nbformat": 4,
 "nbformat_minor": 5
}
